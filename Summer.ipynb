{
  "nbformat": 4,
  "nbformat_minor": 0,
  "metadata": {
    "colab": {
      "name": "Summer.ipynb",
      "provenance": []
    },
    "kernelspec": {
      "name": "python3",
      "display_name": "Python 3"
    },
    "language_info": {
      "name": "python"
    }
  },
  "cells": [
    {
      "cell_type": "markdown",
      "metadata": {
        "id": "ITSZTpW-RV_x"
      },
      "source": [
        "#**Summer Olympics Data Analysis Assignment**"
      ]
    },
    {
      "cell_type": "markdown",
      "metadata": {
        "id": "0UosebIcR46g"
      },
      "source": [
        "#1. In how many cities Summer Olympics is held so far?"
      ]
    },
    {
      "cell_type": "code",
      "metadata": {
        "id": "N5mmsjFhR_Oj"
      },
      "source": [
        "22"
      ],
      "execution_count": null,
      "outputs": []
    },
    {
      "cell_type": "markdown",
      "metadata": {
        "id": "ckdqqyCoSKeP"
      },
      "source": [
        "#2. Which sport is having most number of Gold Medals so far? (Top 5)"
      ]
    },
    {
      "cell_type": "code",
      "metadata": {
        "id": "NXG6zwd2SN6n"
      },
      "source": [
        "\n",
        "     Sport    \tMedal\n",
        "0\t  Aquatics\t  1421\n",
        "1\t  Athletics\t  1215\n",
        "17  \tRowing\t  890\n",
        "4\t  Gymnastics\t820\n",
        "3\t  Fencing\t    552\n",
        "\n"
      ],
      "execution_count": null,
      "outputs": []
    },
    {
      "cell_type": "markdown",
      "metadata": {
        "id": "4w0GUUv5S2EC"
      },
      "source": [
        "#3. Which sport is having most number of medals so far? (Top 5)"
      ]
    },
    {
      "cell_type": "code",
      "metadata": {
        "id": "VHtVVWB-TLA1"
      },
      "source": [
        "      Sport\t      Medal\n",
        "0\t    Aquatics  \t4170\n",
        "1\t    Athletics\t  3638\n",
        "17\t  Rowing\t    2667\n",
        "4\t    Gymnastics\t2307\n",
        "3\t    Fencing\t    1613"
      ],
      "execution_count": null,
      "outputs": []
    },
    {
      "cell_type": "markdown",
      "metadata": {
        "id": "9eWLQdbqTZB0"
      },
      "source": [
        "#4. Which player has won most number of medals? (Top 5)"
      ]
    },
    {
      "cell_type": "code",
      "metadata": {
        "id": "CZFfppk_TdQA"
      },
      "source": [
        "       Athlete            \tMedal\n",
        "18640\tPHELPS, Michael\t      22\n",
        "7197\tLATYNINA, Larisa\t    18\n",
        "9948\tANDRIANOV, Nikolay\t  15\n",
        "6591\tONO, Takashi       \t  13\n",
        "5103\tMANGIAROTTI, Edoardo\t13"
      ],
      "execution_count": null,
      "outputs": []
    },
    {
      "cell_type": "markdown",
      "metadata": {
        "id": "n4ek4ZOMTrEY"
      },
      "source": [
        "#5. Which player has won most number Gold Medals of medals? (Top 5)"
      ]
    },
    {
      "cell_type": "code",
      "metadata": {
        "id": "Yozt7Pv4Tvp-"
      },
      "source": [
        "       Athlete\t         Medal\n",
        "6851\tPHELPS, Michael\t    18"
      ],
      "execution_count": null,
      "outputs": []
    },
    {
      "cell_type": "markdown",
      "metadata": {
        "id": "hJfod4myUBp2"
      },
      "source": [
        "\n",
        "#6. In which year India won first Gold Medal in Summer Olympics?"
      ]
    },
    {
      "cell_type": "code",
      "metadata": {
        "id": "7WhWSYSzUGUQ"
      },
      "source": [
        "Year\t\n",
        "1928\t"
      ],
      "execution_count": null,
      "outputs": []
    },
    {
      "cell_type": "markdown",
      "metadata": {
        "id": "KlAnBi5FUQzG"
      },
      "source": [
        "#7. Which event is most popular in terms on number of players? (Top 5)"
      ]
    },
    {
      "cell_type": "code",
      "metadata": {
        "id": "34_DS2A1UVRs"
      },
      "source": [
        "Sport\t       Athlete\n",
        "Aquatics    \t4170"
      ],
      "execution_count": null,
      "outputs": []
    },
    {
      "cell_type": "markdown",
      "metadata": {
        "id": "kPlgfpc4UgsG"
      },
      "source": [
        "#8. Which sport is having most female Gold Medalists? (Top 5)"
      ]
    },
    {
      "cell_type": "code",
      "metadata": {
        "id": "DsP3DGIAUj7j"
      },
      "source": [
        "\n",
        "      Sport\t      Medal\n",
        "4\t   Aquatics\t    589\n",
        "7\t   Athletics\t  389\n",
        "8  \tGymnastics\t  268\n",
        "14  Rowing\t      217\n",
        "11\tVolleyball\t  166"
      ],
      "execution_count": null,
      "outputs": []
    }
  ]
}